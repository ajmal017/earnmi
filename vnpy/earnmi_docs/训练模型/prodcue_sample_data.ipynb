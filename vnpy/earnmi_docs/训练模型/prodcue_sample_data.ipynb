{
 "cells": [
  {
   "cell_type": "code",
   "execution_count": 1,
   "metadata": {},
   "outputs": [
    {
     "name": "stdout",
     "output_type": "stream",
     "text": [
      "(994, 8)\n"
     ]
    }
   ],
   "source": [
    "import pandas as pd\n",
    "import numpy as np\n",
    "\n",
    "sample_pd = pd.read_csv('sample_data3.csv',header = None)\n",
    "trim_data = sample_pd.drop(0,axis =1)\n",
    "print(trim_data.shape)\n",
    "data  = trim_data.values\n",
    "\n"
   ]
  },
  {
   "cell_type": "code",
   "execution_count": 2,
   "metadata": {},
   "outputs": [],
   "source": [
    "import sklearn\n",
    "from sklearn import model_selection\n",
    "\n",
    "x,y=np.split(data,indices_or_sections=(7,),axis=1) #x为数据，y为标签\n",
    "x=x[:,0:2] #为便于后边画图显示，只选取前两维度。若不用画图，可选取前四列x[:,0:4]\n",
    "train_data,test_data,train_label,test_label =model_selection.train_test_split(x,y, train_size=0.7,test_size=0.3)\n",
    "train_label = train_label.ravel()\n",
    "test_label = test_label.ravel()"
   ]
  },
  {
   "cell_type": "code",
   "execution_count": 151,
   "metadata": {},
   "outputs": [],
   "source": []
  },
  {
   "cell_type": "code",
   "execution_count": 3,
   "metadata": {},
   "outputs": [
    {
     "data": {
      "text/plain": [
       "SVC(C=2, break_ties=False, cache_size=200, class_weight=None, coef0=0.0,\n",
       "    decision_function_shape='ovr', degree=3, gamma=1000, kernel='rbf',\n",
       "    max_iter=-1, probability=False, random_state=None, shrinking=True,\n",
       "    tol=0.001, verbose=False)"
      ]
     },
     "execution_count": 3,
     "metadata": {},
     "output_type": "execute_result"
    }
   ],
   "source": [
    "from sklearn import svm\n",
    "classifier=svm.SVC(C=2,kernel='rbf',gamma=1000,decision_function_shape='ovr') # ovr:一对多策略\n",
    "classifier.fit(train_data,train_label) #ravel函数在降维时默认是行序优先"
   ]
  },
  {
   "cell_type": "code",
   "execution_count": 4,
   "metadata": {},
   "outputs": [
    {
     "name": "stdout",
     "output_type": "stream",
     "text": [
      "训练集： 0.9453237410071943\n",
      "测试集： 0.7591973244147158\n"
     ]
    }
   ],
   "source": [
    "print(\"训练集：\",classifier.score(train_data,train_label))\n",
    "print(\"测试集：\",classifier.score(test_data,test_label))"
   ]
  },
  {
   "cell_type": "code",
   "execution_count": 158,
   "metadata": {},
   "outputs": [
    {
     "name": "stdout",
     "output_type": "stream",
     "text": [
      "训练集： 0.911504424778761\n",
      "测试集： 0.3333333333333333\n"
     ]
    }
   ],
   "source": [
    "from sklearn.metrics import accuracy_score\n",
    "tra_label=classifier.predict(train_data) #训练集的预测标签\n",
    "tes_label=classifier.predict(test_data) #测试集的预测标签\n",
    "print(\"训练集：\", accuracy_score(train_label,tra_label) )\n",
    "print(\"测试集：\", accuracy_score(test_label,tes_label) )\n"
   ]
  },
  {
   "cell_type": "code",
   "execution_count": 160,
   "metadata": {},
   "outputs": [
    {
     "data": {
      "text/plain": [
       "453"
      ]
     },
     "execution_count": 160,
     "metadata": {},
     "output_type": "execute_result"
    }
   ],
   "source": [
    "len(test_label)"
   ]
  },
  {
   "cell_type": "code",
   "execution_count": 128,
   "metadata": {},
   "outputs": [
    {
     "data": {
      "text/plain": [
       "453"
      ]
     },
     "execution_count": 128,
     "metadata": {},
     "output_type": "execute_result"
    }
   ],
   "source": [
    "len(tes_label)"
   ]
  },
  {
   "cell_type": "code",
   "execution_count": 167,
   "metadata": {},
   "outputs": [
    {
     "data": {
      "text/plain": [
       "array([ 0., -2.,  0.,  3.,  4.,  0., -1.,  0.,  0.,  5.,  0.,  0.,  0.,\n",
       "       -1., -2., -1.,  0.,  0., -1.,  0.,  7.,  2.,  1., -1., -2., -1.,\n",
       "       -1., -1., -1.,  0.,  0.,  2.,  0.,  4.,  1.,  1.,  0., -1.,  2.,\n",
       "       -2.,  5.,  0.,  1.,  0., -1., -1.,  1.,  1., -1.,  1.,  0.,  1.,\n",
       "       -1., -1.,  0.,  0.,  0.,  0.,  0., -1.,  1.,  0.,  1.,  1.,  0.,\n",
       "       -1.,  2., -1., -1., -2.,  8.,  0., -1.,  0., -1.,  0.,  0., -1.,\n",
       "       -1.,  0.,  1., -1., -1., -1.,  0.,  0.,  0., -1.,  0., -1., -1.,\n",
       "        0.,  2., -3., -1., -1.,  0.,  0.,  0.,  1.,  1.,  0.,  5.,  0.,\n",
       "       -1.,  2.,  1., -1., -1.,  2., -1., -1., -1., -1., -1.,  0.,  0.,\n",
       "        0.,  0., -1.,  0.,  2.,  1.,  0.,  3.,  0.,  3.,  2., -1., -1.,\n",
       "       -1.,  0., -1.,  1.,  0.,  1., -1.,  0., -1.,  7., -1., -1.,  1.,\n",
       "        0.,  0.,  5.,  0.,  1.,  4., -1.,  0., -1.,  0., -1., -1.,  1.,\n",
       "        2.,  2., -1.,  3.,  0., -1.,  1.,  4.,  1., -1.,  0., -1.,  0.,\n",
       "        0.,  2., -1.,  0., -1.,  2., -1.,  0., -1.,  7.,  1.,  0.,  0.,\n",
       "        1., -1.,  1.,  1., -1., -1., -1.,  0.,  1.,  0.,  0.,  1., -1.,\n",
       "       -1.,  0.,  0.,  3.,  0.,  4., -1.,  2., -1., -1., -1., -1.,  4.,\n",
       "       -1.,  1.,  0.,  2.,  0., -1.,  0.,  0.,  0.,  0., -2.,  1., -1.,\n",
       "        4.,  0., -1., -1.,  0.,  0.,  6.,  2., -1.,  2.,  0.,  4.,  1.,\n",
       "        1.,  2.,  3., -1., -1.,  0., -2.,  0., -1.,  0.,  0., -1.,  3.,\n",
       "       -1.,  1.,  1.,  0.,  1., -8., -1.,  1.,  1.,  0.,  2.,  0.,  0.,\n",
       "        1.,  0.,  0.,  1., -1., -1., -1., -1.,  1., -1.,  0.,  0.,  1.,\n",
       "        1.,  2.,  2.,  1., -1., 14., -1.,  0.,  2., -1.,  1., -4., -1.,\n",
       "        0.,  1.,  2., -1.,  0., -1.,  2.,  0.,  1.,  0.,  0.,  0., -1.,\n",
       "       -3., -1.,  0.,  0., -3., -1.,  0., -1., -1.,  0.,  0.,  0.,  0.,\n",
       "        4.,  1.,  0.,  0., -1.,  0.,  0.,  1., -1., -1., -1.,  0., -3.,\n",
       "       -1., -1., -1., -1., -1., -1., -1.,  0.,  0.,  0.,  1.,  0.,  2.,\n",
       "        3.,  0.,  0., -1.,  1.,  2.,  0.,  2.,  3.,  0.,  0., -1.,  1.,\n",
       "        0., -1., -1.,  0.,  1.,  0., -1.,  1.,  0.,  0., -6.,  1.,  2.,\n",
       "       -1.,  0.,  0., -1.,  0., -1., -2.,  1., -1.,  0.,  0., -1.,  2.,\n",
       "        8.,  4.,  3.,  2.,  0.,  5.,  1.,  0., -1.,  0.,  0.,  2.,  2.,\n",
       "       -1.,  1.,  1.,  0.,  2.,  0.,  0., -1.,  0.,  1.,  1.,  5., -1.,\n",
       "       -1.,  8., -1.,  0.,  9.,  2., -1.,  0.,  4., -1.,  1.,  0.,  1.,\n",
       "        0.,  2., 13.,  0.,  1.,  1.,  1.,  4.,  0.,  1.,  0., -1.,  2.,\n",
       "        0.,  0.,  1.,  0.,  1., -1., -2.,  0., -5., -1., -1., -1.,  0.,\n",
       "        0., -1.,  1.,  5.,  0., -1.,  1., -1., -2.,  2., -1.])"
      ]
     },
     "execution_count": 167,
     "metadata": {},
     "output_type": "execute_result"
    }
   ],
   "source": [
    "dddd = test_label - tes_label\n",
    "dddd"
   ]
  }
 ],
 "metadata": {
  "kernelspec": {
   "display_name": "Python 3",
   "language": "python",
   "name": "python3"
  },
  "language_info": {
   "codemirror_mode": {
    "name": "ipython",
    "version": 3
   },
   "file_extension": ".py",
   "mimetype": "text/x-python",
   "name": "python",
   "nbconvert_exporter": "python",
   "pygments_lexer": "ipython3",
   "version": "3.7.6"
  }
 },
 "nbformat": 4,
 "nbformat_minor": 4
}
