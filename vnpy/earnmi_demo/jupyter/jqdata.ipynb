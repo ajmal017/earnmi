{
 "cells": [
  {
   "cell_type": "code",
   "execution_count": 5,
   "metadata": {},
   "outputs": [],
   "source": [
    "\n",
    "import jqdatasdk as jq\n",
    "\n",
    "jq.auth('13530336157', 'Qwer4321')  # ID是申请时所填写的手机号；Password为聚宽官网登录密码，新申请用户默认为手机号后6位\n"
   ]
  },
  {
   "cell_type": "code",
   "execution_count": 11,
   "metadata": {},
   "outputs": [
    {
     "data": {
      "text/html": [
       "<div>\n",
       "<style scoped>\n",
       "    .dataframe tbody tr th:only-of-type {\n",
       "        vertical-align: middle;\n",
       "    }\n",
       "\n",
       "    .dataframe tbody tr th {\n",
       "        vertical-align: top;\n",
       "    }\n",
       "\n",
       "    .dataframe thead th {\n",
       "        text-align: right;\n",
       "    }\n",
       "</style>\n",
       "<table border=\"1\" class=\"dataframe\">\n",
       "  <thead>\n",
       "    <tr style=\"text-align: right;\">\n",
       "      <th></th>\n",
       "      <th>date</th>\n",
       "      <th>open</th>\n",
       "      <th>high</th>\n",
       "      <th>low</th>\n",
       "      <th>close</th>\n",
       "      <th>volume</th>\n",
       "    </tr>\n",
       "  </thead>\n",
       "  <tbody>\n",
       "    <tr>\n",
       "      <th>0</th>\n",
       "      <td>2019-03-29</td>\n",
       "      <td>2954.40</td>\n",
       "      <td>3129.94</td>\n",
       "      <td>2930.83</td>\n",
       "      <td>3090.76</td>\n",
       "      <td>8.691925e+11</td>\n",
       "    </tr>\n",
       "    <tr>\n",
       "      <th>1</th>\n",
       "      <td>2019-04-30</td>\n",
       "      <td>3111.66</td>\n",
       "      <td>3288.45</td>\n",
       "      <td>3050.03</td>\n",
       "      <td>3078.34</td>\n",
       "      <td>7.487133e+11</td>\n",
       "    </tr>\n",
       "    <tr>\n",
       "      <th>2</th>\n",
       "      <td>2019-05-31</td>\n",
       "      <td>2984.73</td>\n",
       "      <td>2986.54</td>\n",
       "      <td>2833.04</td>\n",
       "      <td>2898.70</td>\n",
       "      <td>4.465127e+11</td>\n",
       "    </tr>\n",
       "    <tr>\n",
       "      <th>3</th>\n",
       "      <td>2019-06-28</td>\n",
       "      <td>2901.74</td>\n",
       "      <td>3012.83</td>\n",
       "      <td>2822.19</td>\n",
       "      <td>2978.88</td>\n",
       "      <td>3.974677e+11</td>\n",
       "    </tr>\n",
       "    <tr>\n",
       "      <th>4</th>\n",
       "      <td>2019-07-31</td>\n",
       "      <td>3024.62</td>\n",
       "      <td>3048.48</td>\n",
       "      <td>2879.69</td>\n",
       "      <td>2932.51</td>\n",
       "      <td>3.718515e+11</td>\n",
       "    </tr>\n",
       "    <tr>\n",
       "      <th>5</th>\n",
       "      <td>2019-08-30</td>\n",
       "      <td>2920.85</td>\n",
       "      <td>2927.34</td>\n",
       "      <td>2733.92</td>\n",
       "      <td>2886.24</td>\n",
       "      <td>3.694482e+11</td>\n",
       "    </tr>\n",
       "  </tbody>\n",
       "</table>\n",
       "</div>"
      ],
      "text/plain": [
       "         date     open     high      low    close        volume\n",
       "0  2019-03-29  2954.40  3129.94  2930.83  3090.76  8.691925e+11\n",
       "1  2019-04-30  3111.66  3288.45  3050.03  3078.34  7.487133e+11\n",
       "2  2019-05-31  2984.73  2986.54  2833.04  2898.70  4.465127e+11\n",
       "3  2019-06-28  2901.74  3012.83  2822.19  2978.88  3.974677e+11\n",
       "4  2019-07-31  3024.62  3048.48  2879.69  2932.51  3.718515e+11\n",
       "5  2019-08-30  2920.85  2927.34  2733.92  2886.24  3.694482e+11"
      ]
     },
     "execution_count": 11,
     "metadata": {},
     "output_type": "execute_result"
    }
   ],
   "source": [
    "from datetime import datetime, timedelta\n",
    "\n",
    "\n",
    "code = '000001.XSHG'\n",
    "season_date = datetime(2019,6,30) + timedelta(days= 63)\n",
    "data = jq.get_bars(jq.normalize_code(code), 6, unit='1M', fields=['date', 'open', 'high', 'low', 'close', 'volume'],\n",
    "                     include_now=True, end_dt=season_date)\n",
    "data"
   ]
  },
  {
   "cell_type": "code",
   "execution_count": null,
   "metadata": {},
   "outputs": [],
   "source": []
  }
 ],
 "metadata": {
  "kernelspec": {
   "display_name": "Python 3",
   "language": "python",
   "name": "python3"
  },
  "language_info": {
   "codemirror_mode": {
    "name": "ipython",
    "version": 3
   },
   "file_extension": ".py",
   "mimetype": "text/x-python",
   "name": "python",
   "nbconvert_exporter": "python",
   "pygments_lexer": "ipython3",
   "version": "3.7.6"
  }
 },
 "nbformat": 4,
 "nbformat_minor": 4
}
