{
 "cells": [
  {
   "cell_type": "code",
   "execution_count": 1,
   "metadata": {},
   "outputs": [
    {
     "name": "stdout",
     "output_type": "stream",
     "text": [
      "(348, 9)\n"
     ]
    },
    {
     "data": {
      "text/html": [
       "<div>\n",
       "<style scoped>\n",
       "    .dataframe tbody tr th:only-of-type {\n",
       "        vertical-align: middle;\n",
       "    }\n",
       "\n",
       "    .dataframe tbody tr th {\n",
       "        vertical-align: top;\n",
       "    }\n",
       "\n",
       "    .dataframe thead th {\n",
       "        text-align: right;\n",
       "    }\n",
       "</style>\n",
       "<table border=\"1\" class=\"dataframe\">\n",
       "  <thead>\n",
       "    <tr style=\"text-align: right;\">\n",
       "      <th></th>\n",
       "      <th>code</th>\n",
       "      <th>name</th>\n",
       "      <th>kPattern</th>\n",
       "      <th>buy_price</th>\n",
       "      <th>sell_price</th>\n",
       "      <th>k</th>\n",
       "      <th>j</th>\n",
       "      <th>label_sell_price</th>\n",
       "      <th>label_buy_price</th>\n",
       "    </tr>\n",
       "  </thead>\n",
       "  <tbody>\n",
       "    <tr>\n",
       "      <th>0</th>\n",
       "      <td>801881</td>\n",
       "      <td>其他交运设备II</td>\n",
       "      <td>712</td>\n",
       "      <td>-1.098986</td>\n",
       "      <td>-0.008333</td>\n",
       "      <td>95.583908</td>\n",
       "      <td>90.605103</td>\n",
       "      <td>0.290301</td>\n",
       "      <td>-1.715114</td>\n",
       "    </tr>\n",
       "    <tr>\n",
       "      <th>1</th>\n",
       "      <td>801881</td>\n",
       "      <td>其他交运设备II</td>\n",
       "      <td>712</td>\n",
       "      <td>-0.511574</td>\n",
       "      <td>0.225401</td>\n",
       "      <td>70.570293</td>\n",
       "      <td>59.899220</td>\n",
       "      <td>2.299587</td>\n",
       "      <td>0.042024</td>\n",
       "    </tr>\n",
       "    <tr>\n",
       "      <th>2</th>\n",
       "      <td>801881</td>\n",
       "      <td>其他交运设备II</td>\n",
       "      <td>712</td>\n",
       "      <td>2.521705</td>\n",
       "      <td>5.227228</td>\n",
       "      <td>67.502247</td>\n",
       "      <td>54.059976</td>\n",
       "      <td>8.238283</td>\n",
       "      <td>5.253366</td>\n",
       "    </tr>\n",
       "    <tr>\n",
       "      <th>3</th>\n",
       "      <td>801881</td>\n",
       "      <td>其他交运设备II</td>\n",
       "      <td>712</td>\n",
       "      <td>-2.102709</td>\n",
       "      <td>-0.082342</td>\n",
       "      <td>83.430366</td>\n",
       "      <td>84.083528</td>\n",
       "      <td>3.585147</td>\n",
       "      <td>-0.389238</td>\n",
       "    </tr>\n",
       "    <tr>\n",
       "      <th>4</th>\n",
       "      <td>801881</td>\n",
       "      <td>其他交运设备II</td>\n",
       "      <td>712</td>\n",
       "      <td>-0.882167</td>\n",
       "      <td>-0.200809</td>\n",
       "      <td>40.766058</td>\n",
       "      <td>24.982887</td>\n",
       "      <td>1.656360</td>\n",
       "      <td>-1.291246</td>\n",
       "    </tr>\n",
       "  </tbody>\n",
       "</table>\n",
       "</div>"
      ],
      "text/plain": [
       "     code      name  kPattern  buy_price  sell_price          k          j  \\\n",
       "0  801881  其他交运设备II       712  -1.098986   -0.008333  95.583908  90.605103   \n",
       "1  801881  其他交运设备II       712  -0.511574    0.225401  70.570293  59.899220   \n",
       "2  801881  其他交运设备II       712   2.521705    5.227228  67.502247  54.059976   \n",
       "3  801881  其他交运设备II       712  -2.102709   -0.082342  83.430366  84.083528   \n",
       "4  801881  其他交运设备II       712  -0.882167   -0.200809  40.766058  24.982887   \n",
       "\n",
       "   label_sell_price  label_buy_price  \n",
       "0          0.290301        -1.715114  \n",
       "1          2.299587         0.042024  \n",
       "2          8.238283         5.253366  \n",
       "3          3.585147        -0.389238  \n",
       "4          1.656360        -1.291246  "
      ]
     },
     "execution_count": 1,
     "metadata": {},
     "output_type": "execute_result"
    }
   ],
   "source": [
    "import pandas as pd\n",
    "import numpy as np\n",
    "excelFile = r'files/sw_train_data_sample.xlsx'\n",
    "sample_df = pd.DataFrame(pd.read_excel(excelFile))\n",
    "print(f\"{sample_df.shape}\")\n",
    "sample_df.head()"
   ]
  },
  {
   "cell_type": "code",
   "execution_count": null,
   "metadata": {},
   "outputs": [],
   "source": []
  },
  {
   "cell_type": "code",
   "execution_count": 2,
   "metadata": {},
   "outputs": [
    {
     "data": {
      "text/html": [
       "<div>\n",
       "<style scoped>\n",
       "    .dataframe tbody tr th:only-of-type {\n",
       "        vertical-align: middle;\n",
       "    }\n",
       "\n",
       "    .dataframe tbody tr th {\n",
       "        vertical-align: top;\n",
       "    }\n",
       "\n",
       "    .dataframe thead th {\n",
       "        text-align: right;\n",
       "    }\n",
       "</style>\n",
       "<table border=\"1\" class=\"dataframe\">\n",
       "  <thead>\n",
       "    <tr style=\"text-align: right;\">\n",
       "      <th></th>\n",
       "      <th>buy_price</th>\n",
       "      <th>sell_price</th>\n",
       "      <th>k</th>\n",
       "      <th>j</th>\n",
       "      <th>label_sell_price</th>\n",
       "      <th>label_buy_price</th>\n",
       "    </tr>\n",
       "  </thead>\n",
       "  <tbody>\n",
       "    <tr>\n",
       "      <th>0</th>\n",
       "      <td>-0.109</td>\n",
       "      <td>0.000</td>\n",
       "      <td>0.955839</td>\n",
       "      <td>0.906051</td>\n",
       "      <td>0</td>\n",
       "      <td>-1</td>\n",
       "    </tr>\n",
       "    <tr>\n",
       "      <th>1</th>\n",
       "      <td>-0.051</td>\n",
       "      <td>0.022</td>\n",
       "      <td>0.705703</td>\n",
       "      <td>0.598992</td>\n",
       "      <td>1</td>\n",
       "      <td>0</td>\n",
       "    </tr>\n",
       "    <tr>\n",
       "      <th>2</th>\n",
       "      <td>0.252</td>\n",
       "      <td>0.522</td>\n",
       "      <td>0.675022</td>\n",
       "      <td>0.540600</td>\n",
       "      <td>1</td>\n",
       "      <td>5</td>\n",
       "    </tr>\n",
       "    <tr>\n",
       "      <th>3</th>\n",
       "      <td>-0.210</td>\n",
       "      <td>-0.008</td>\n",
       "      <td>0.834304</td>\n",
       "      <td>0.840835</td>\n",
       "      <td>1</td>\n",
       "      <td>0</td>\n",
       "    </tr>\n",
       "    <tr>\n",
       "      <th>4</th>\n",
       "      <td>-0.088</td>\n",
       "      <td>-0.020</td>\n",
       "      <td>0.407661</td>\n",
       "      <td>0.249829</td>\n",
       "      <td>0</td>\n",
       "      <td>0</td>\n",
       "    </tr>\n",
       "  </tbody>\n",
       "</table>\n",
       "</div>"
      ],
      "text/plain": [
       "   buy_price  sell_price         k         j  label_sell_price  \\\n",
       "0     -0.109       0.000  0.955839  0.906051                 0   \n",
       "1     -0.051       0.022  0.705703  0.598992                 1   \n",
       "2      0.252       0.522  0.675022  0.540600                 1   \n",
       "3     -0.210      -0.008  0.834304  0.840835                 1   \n",
       "4     -0.088      -0.020  0.407661  0.249829                 0   \n",
       "\n",
       "   label_buy_price  \n",
       "0               -1  \n",
       "1                0  \n",
       "2                5  \n",
       "3                0  \n",
       "4                0  "
      ]
     },
     "execution_count": 2,
     "metadata": {},
     "output_type": "execute_result"
    }
   ],
   "source": [
    "def set_0_or_1(x):\n",
    "    if x >= 2:\n",
    "        return 1\n",
    "    return 0\n",
    "\n",
    "def percent_to_one(x):\n",
    "    return int(x * 100) /1000.0\n",
    "\n",
    "def to_one_min_max_120(x):\n",
    "    v = x / 120\n",
    "    if  v > 1:\n",
    "        v = 1\n",
    "    if  v< -1:\n",
    "        v =-1\n",
    "    return int(v*100)/100.0\n",
    "\n",
    "def toInt(x):\n",
    "    return int(x + 0.5)\n",
    "\n",
    "d = sample_df\n",
    "d['buy_price'] = d.buy_price.apply(percent_to_one)   #归一化\n",
    "d['sell_price'] = d.sell_price.apply(percent_to_one)   #归一化\n",
    "d['label_sell_price'] = d.label_sell_price.apply(set_0_or_1)\n",
    "d['label_buy_price'] = d.label_buy_price.apply(toInt)\n",
    "d.k = d.k / 100\n",
    "d.j = d.j / 100\n",
    "sample_df = sample_df.drop(columns=['code','kPattern', 'name'])\n",
    "#sample_df.rename(columns={'d':'kd_diff'},inplace=True)\n",
    "sample_df.head()\n",
    " "
   ]
  },
  {
   "cell_type": "code",
   "execution_count": 85,
   "metadata": {},
   "outputs": [],
   "source": []
  },
  {
   "cell_type": "code",
   "execution_count": 4,
   "metadata": {},
   "outputs": [],
   "source": [
    "import sklearn\n",
    "from sklearn import model_selection\n",
    "\n",
    "data  = sample_df.values\n",
    "x,y=np.split(data,indices_or_sections=(4,),axis=1) #x为数据，y为标签\n",
    "y = y[:,0:1].astype('int')  #取第一列"
   ]
  },
  {
   "cell_type": "code",
   "execution_count": 5,
   "metadata": {},
   "outputs": [],
   "source": [
    "train_data,test_data,train_label,test_label =model_selection.train_test_split(x,y, train_size=0.7,test_size=0.3)\n",
    "train_label = train_label.ravel()\n",
    "test_label = test_label.ravel()"
   ]
  },
  {
   "cell_type": "code",
   "execution_count": null,
   "metadata": {},
   "outputs": [],
   "source": []
  },
  {
   "cell_type": "code",
   "execution_count": 13,
   "metadata": {},
   "outputs": [
    {
     "name": "stdout",
     "output_type": "stream",
     "text": [
      "训练集： 0.7818930041152263\n",
      "测试集： 0.8380952380952381\n"
     ]
    }
   ],
   "source": [
    "from sklearn import svm\n",
    "classifier=svm.SVC(C=2,kernel='rbf',gamma=10,decision_function_shape='ovr',probability=True) # ovr:一对多策略\n",
    "classifier.fit(train_data,train_label) #ravel函数在降维时默认是行序优先\n",
    "\n",
    "print(\"训练集：\",classifier.score(train_data,train_label))\n",
    "print(\"测试集：\",classifier.score(test_data,test_label))"
   ]
  },
  {
   "cell_type": "code",
   "execution_count": 10,
   "metadata": {},
   "outputs": [
    {
     "data": {
      "text/plain": [
       "array([[-0.043     , -0.003     ,  0.93704555,  0.88734649],\n",
       "       [ 0.001     ,  0.076     ,  0.68050659,  0.6686651 ],\n",
       "       [-0.038     ,  0.029     ,  0.27339842,  0.20495555],\n",
       "       [-0.018     ,  0.028     ,  0.66045136,  0.62458342],\n",
       "       [-0.087     ,  0.006     ,  0.59271642,  0.56355075]])"
      ]
     },
     "execution_count": 10,
     "metadata": {},
     "output_type": "execute_result"
    }
   ],
   "source": [
    "sampel_1 = test_data[5:10,]   ##取测试数据低第8,9个\n",
    "sampel_1"
   ]
  },
  {
   "cell_type": "code",
   "execution_count": 14,
   "metadata": {},
   "outputs": [
    {
     "data": {
      "text/plain": [
       "(array([0, 0, 0, 0, 0]),\n",
       " array([[0.83177423, 0.16822577],\n",
       "        [0.57900388, 0.42099612],\n",
       "        [0.64109875, 0.35890125],\n",
       "        [0.72452047, 0.27547953],\n",
       "        [0.64957878, 0.35042122]]))"
      ]
     },
     "execution_count": 14,
     "metadata": {},
     "output_type": "execute_result"
    }
   ],
   "source": [
    "predict_props = classifier.predict_proba(sampel_1)\n",
    "predict_label = classifier.predict(sampel_1)\n",
    "predict_label,predict_props"
   ]
  },
  {
   "cell_type": "code",
   "execution_count": null,
   "metadata": {},
   "outputs": [],
   "source": []
  },
  {
   "cell_type": "code",
   "execution_count": null,
   "metadata": {},
   "outputs": [],
   "source": [
    "\n"
   ]
  },
  {
   "cell_type": "code",
   "execution_count": null,
   "metadata": {},
   "outputs": [],
   "source": []
  },
  {
   "cell_type": "code",
   "execution_count": 31,
   "metadata": {},
   "outputs": [
    {
     "data": {
      "text/html": [
       "<div>\n",
       "<style scoped>\n",
       "    .dataframe tbody tr th:only-of-type {\n",
       "        vertical-align: middle;\n",
       "    }\n",
       "\n",
       "    .dataframe tbody tr th {\n",
       "        vertical-align: top;\n",
       "    }\n",
       "\n",
       "    .dataframe thead th {\n",
       "        text-align: right;\n",
       "    }\n",
       "</style>\n",
       "<table border=\"1\" class=\"dataframe\">\n",
       "  <thead>\n",
       "    <tr style=\"text-align: right;\">\n",
       "      <th></th>\n",
       "      <th>kPattern</th>\n",
       "      <th>k_diff</th>\n",
       "      <th>d</th>\n",
       "      <th>macd</th>\n",
       "      <th>open</th>\n",
       "      <th>short</th>\n",
       "      <th>long</th>\n",
       "    </tr>\n",
       "  </thead>\n",
       "  <tbody>\n",
       "    <tr>\n",
       "      <th>0</th>\n",
       "      <td>46418</td>\n",
       "      <td>76.080320</td>\n",
       "      <td>18.173668</td>\n",
       "      <td>-4.023488</td>\n",
       "      <td>-0.034919</td>\n",
       "      <td>0.467475</td>\n",
       "      <td>0.033330</td>\n",
       "    </tr>\n",
       "    <tr>\n",
       "      <th>1</th>\n",
       "      <td>39776</td>\n",
       "      <td>82.990059</td>\n",
       "      <td>9.706241</td>\n",
       "      <td>-2.389732</td>\n",
       "      <td>-0.020127</td>\n",
       "      <td>0.237116</td>\n",
       "      <td>-0.194516</td>\n",
       "    </tr>\n",
       "    <tr>\n",
       "      <th>2</th>\n",
       "      <td>33215</td>\n",
       "      <td>86.664484</td>\n",
       "      <td>4.752863</td>\n",
       "      <td>-0.932882</td>\n",
       "      <td>-0.014234</td>\n",
       "      <td>0.127453</td>\n",
       "      <td>-0.193571</td>\n",
       "    </tr>\n",
       "    <tr>\n",
       "      <th>3</th>\n",
       "      <td>33215</td>\n",
       "      <td>91.173888</td>\n",
       "      <td>4.231078</td>\n",
       "      <td>0.055731</td>\n",
       "      <td>0.052279</td>\n",
       "      <td>1.463844</td>\n",
       "      <td>0.923712</td>\n",
       "    </tr>\n",
       "    <tr>\n",
       "      <th>4</th>\n",
       "      <td>33216</td>\n",
       "      <td>93.380019</td>\n",
       "      <td>2.973889</td>\n",
       "      <td>1.164693</td>\n",
       "      <td>-0.038353</td>\n",
       "      <td>0.239515</td>\n",
       "      <td>-0.158650</td>\n",
       "    </tr>\n",
       "  </tbody>\n",
       "</table>\n",
       "</div>"
      ],
      "text/plain": [
       "   kPattern     k_diff          d      macd      open     short      long\n",
       "0     46418  76.080320  18.173668 -4.023488 -0.034919  0.467475  0.033330\n",
       "1     39776  82.990059   9.706241 -2.389732 -0.020127  0.237116 -0.194516\n",
       "2     33215  86.664484   4.752863 -0.932882 -0.014234  0.127453 -0.193571\n",
       "3     33215  91.173888   4.231078  0.055731  0.052279  1.463844  0.923712\n",
       "4     33216  93.380019   2.973889  1.164693 -0.038353  0.239515 -0.158650"
      ]
     },
     "execution_count": 31,
     "metadata": {},
     "output_type": "execute_result"
    }
   ],
   "source": []
  },
  {
   "cell_type": "code",
   "execution_count": null,
   "metadata": {},
   "outputs": [],
   "source": []
  },
  {
   "cell_type": "code",
   "execution_count": null,
   "metadata": {},
   "outputs": [],
   "source": []
  },
  {
   "cell_type": "code",
   "execution_count": null,
   "metadata": {},
   "outputs": [],
   "source": []
  },
  {
   "cell_type": "code",
   "execution_count": null,
   "metadata": {},
   "outputs": [],
   "source": []
  },
  {
   "cell_type": "code",
   "execution_count": null,
   "metadata": {},
   "outputs": [],
   "source": []
  },
  {
   "cell_type": "code",
   "execution_count": null,
   "metadata": {},
   "outputs": [],
   "source": []
  },
  {
   "cell_type": "code",
   "execution_count": null,
   "metadata": {},
   "outputs": [],
   "source": []
  },
  {
   "cell_type": "code",
   "execution_count": null,
   "metadata": {},
   "outputs": [],
   "source": []
  },
  {
   "cell_type": "code",
   "execution_count": 20,
   "metadata": {},
   "outputs": [
    {
     "data": {
      "text/html": [
       "<div>\n",
       "<style scoped>\n",
       "    .dataframe tbody tr th:only-of-type {\n",
       "        vertical-align: middle;\n",
       "    }\n",
       "\n",
       "    .dataframe tbody tr th {\n",
       "        vertical-align: top;\n",
       "    }\n",
       "\n",
       "    .dataframe thead th {\n",
       "        text-align: right;\n",
       "    }\n",
       "</style>\n",
       "<table border=\"1\" class=\"dataframe\">\n",
       "  <thead>\n",
       "    <tr style=\"text-align: right;\">\n",
       "      <th></th>\n",
       "      <th>code</th>\n",
       "      <th>name</th>\n",
       "      <th>kPattern</th>\n",
       "      <th>k</th>\n",
       "      <th>d</th>\n",
       "      <th>dif</th>\n",
       "      <th>dea</th>\n",
       "      <th>macd</th>\n",
       "      <th>open</th>\n",
       "      <th>short</th>\n",
       "      <th>long</th>\n",
       "    </tr>\n",
       "  </thead>\n",
       "  <tbody>\n",
       "    <tr>\n",
       "      <th>0</th>\n",
       "      <td>801012</td>\n",
       "      <td>农产品加工II</td>\n",
       "      <td>46418</td>\n",
       "      <td>76.080320</td>\n",
       "      <td>18.173668</td>\n",
       "      <td>11.395251</td>\n",
       "      <td>15.418739</td>\n",
       "      <td>-4.023488</td>\n",
       "      <td>-0.349192</td>\n",
       "      <td>0.467475</td>\n",
       "      <td>0.033330</td>\n",
       "    </tr>\n",
       "    <tr>\n",
       "      <th>1</th>\n",
       "      <td>801012</td>\n",
       "      <td>农产品加工II</td>\n",
       "      <td>39776</td>\n",
       "      <td>82.990059</td>\n",
       "      <td>9.706241</td>\n",
       "      <td>11.625503</td>\n",
       "      <td>14.015235</td>\n",
       "      <td>-2.389732</td>\n",
       "      <td>-0.201269</td>\n",
       "      <td>0.237116</td>\n",
       "      <td>-0.194516</td>\n",
       "    </tr>\n",
       "    <tr>\n",
       "      <th>2</th>\n",
       "      <td>801012</td>\n",
       "      <td>农产品加工II</td>\n",
       "      <td>33215</td>\n",
       "      <td>86.664484</td>\n",
       "      <td>4.752863</td>\n",
       "      <td>11.312657</td>\n",
       "      <td>12.245539</td>\n",
       "      <td>-0.932882</td>\n",
       "      <td>-0.142343</td>\n",
       "      <td>0.127453</td>\n",
       "      <td>-0.193571</td>\n",
       "    </tr>\n",
       "    <tr>\n",
       "      <th>3</th>\n",
       "      <td>801012</td>\n",
       "      <td>农产品加工II</td>\n",
       "      <td>33215</td>\n",
       "      <td>91.173888</td>\n",
       "      <td>4.231078</td>\n",
       "      <td>11.253561</td>\n",
       "      <td>11.197830</td>\n",
       "      <td>0.055731</td>\n",
       "      <td>0.522793</td>\n",
       "      <td>1.463844</td>\n",
       "      <td>0.923712</td>\n",
       "    </tr>\n",
       "    <tr>\n",
       "      <th>4</th>\n",
       "      <td>801012</td>\n",
       "      <td>农产品加工II</td>\n",
       "      <td>33216</td>\n",
       "      <td>93.380019</td>\n",
       "      <td>2.973889</td>\n",
       "      <td>12.710930</td>\n",
       "      <td>11.546237</td>\n",
       "      <td>1.164693</td>\n",
       "      <td>-0.383528</td>\n",
       "      <td>0.239515</td>\n",
       "      <td>-0.158650</td>\n",
       "    </tr>\n",
       "  </tbody>\n",
       "</table>\n",
       "</div>"
      ],
      "text/plain": [
       "     code     name  kPattern          k          d        dif        dea  \\\n",
       "0  801012  农产品加工II     46418  76.080320  18.173668  11.395251  15.418739   \n",
       "1  801012  农产品加工II     39776  82.990059   9.706241  11.625503  14.015235   \n",
       "2  801012  农产品加工II     33215  86.664484   4.752863  11.312657  12.245539   \n",
       "3  801012  农产品加工II     33215  91.173888   4.231078  11.253561  11.197830   \n",
       "4  801012  农产品加工II     33216  93.380019   2.973889  12.710930  11.546237   \n",
       "\n",
       "       macd      open     short      long  \n",
       "0 -4.023488 -0.349192  0.467475  0.033330  \n",
       "1 -2.389732 -0.201269  0.237116 -0.194516  \n",
       "2 -0.932882 -0.142343  0.127453 -0.193571  \n",
       "3  0.055731  0.522793  1.463844  0.923712  \n",
       "4  1.164693 -0.383528  0.239515 -0.158650  "
      ]
     },
     "execution_count": 20,
     "metadata": {},
     "output_type": "execute_result"
    }
   ],
   "source": [
    "d = sample_df\n",
    "sample_df['d'] = d.k - d.d\n",
    "sample_df.head()"
   ]
  },
  {
   "cell_type": "code",
   "execution_count": null,
   "metadata": {},
   "outputs": [],
   "source": []
  },
  {
   "cell_type": "code",
   "execution_count": null,
   "metadata": {},
   "outputs": [],
   "source": []
  },
  {
   "cell_type": "code",
   "execution_count": null,
   "metadata": {},
   "outputs": [],
   "source": []
  },
  {
   "cell_type": "code",
   "execution_count": null,
   "metadata": {},
   "outputs": [],
   "source": []
  },
  {
   "cell_type": "code",
   "execution_count": null,
   "metadata": {},
   "outputs": [],
   "source": []
  },
  {
   "cell_type": "code",
   "execution_count": null,
   "metadata": {},
   "outputs": [],
   "source": []
  },
  {
   "cell_type": "code",
   "execution_count": null,
   "metadata": {},
   "outputs": [],
   "source": []
  },
  {
   "cell_type": "code",
   "execution_count": null,
   "metadata": {},
   "outputs": [],
   "source": []
  },
  {
   "cell_type": "code",
   "execution_count": 9,
   "metadata": {},
   "outputs": [],
   "source": []
  },
  {
   "cell_type": "code",
   "execution_count": null,
   "metadata": {},
   "outputs": [],
   "source": []
  },
  {
   "cell_type": "code",
   "execution_count": null,
   "metadata": {},
   "outputs": [],
   "source": []
  },
  {
   "cell_type": "code",
   "execution_count": null,
   "metadata": {},
   "outputs": [],
   "source": []
  },
  {
   "cell_type": "code",
   "execution_count": null,
   "metadata": {},
   "outputs": [],
   "source": []
  },
  {
   "cell_type": "code",
   "execution_count": null,
   "metadata": {},
   "outputs": [],
   "source": []
  },
  {
   "cell_type": "code",
   "execution_count": null,
   "metadata": {},
   "outputs": [],
   "source": []
  },
  {
   "cell_type": "code",
   "execution_count": null,
   "metadata": {},
   "outputs": [],
   "source": []
  }
 ],
 "metadata": {
  "kernelspec": {
   "display_name": "Python 3",
   "language": "python",
   "name": "python3"
  },
  "language_info": {
   "codemirror_mode": {
    "name": "ipython",
    "version": 3
   },
   "file_extension": ".py",
   "mimetype": "text/x-python",
   "name": "python",
   "nbconvert_exporter": "python",
   "pygments_lexer": "ipython3",
   "version": "3.7.6"
  }
 },
 "nbformat": 4,
 "nbformat_minor": 4
}
