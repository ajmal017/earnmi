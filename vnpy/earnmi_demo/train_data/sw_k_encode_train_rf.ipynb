{
 "cells": [
  {
   "cell_type": "code",
   "execution_count": 38,
   "metadata": {},
   "outputs": [
    {
     "name": "stdout",
     "output_type": "stream",
     "text": [
      "(2051, 11)\n"
     ]
    },
    {
     "data": {
      "text/html": [
       "<div>\n",
       "<style scoped>\n",
       "    .dataframe tbody tr th:only-of-type {\n",
       "        vertical-align: middle;\n",
       "    }\n",
       "\n",
       "    .dataframe tbody tr th {\n",
       "        vertical-align: top;\n",
       "    }\n",
       "\n",
       "    .dataframe thead th {\n",
       "        text-align: right;\n",
       "    }\n",
       "</style>\n",
       "<table border=\"1\" class=\"dataframe\">\n",
       "  <thead>\n",
       "    <tr style=\"text-align: right;\">\n",
       "      <th></th>\n",
       "      <th>code</th>\n",
       "      <th>name</th>\n",
       "      <th>kPattern</th>\n",
       "      <th>k</th>\n",
       "      <th>d</th>\n",
       "      <th>dif</th>\n",
       "      <th>dea</th>\n",
       "      <th>macd</th>\n",
       "      <th>open</th>\n",
       "      <th>short</th>\n",
       "      <th>long</th>\n",
       "    </tr>\n",
       "  </thead>\n",
       "  <tbody>\n",
       "    <tr>\n",
       "      <th>0</th>\n",
       "      <td>801012</td>\n",
       "      <td>农产品加工II</td>\n",
       "      <td>33214</td>\n",
       "      <td>54.193490</td>\n",
       "      <td>53.001464</td>\n",
       "      <td>4.653048</td>\n",
       "      <td>28.310486</td>\n",
       "      <td>-23.657439</td>\n",
       "      <td>-0.019959</td>\n",
       "      <td>4.203308</td>\n",
       "      <td>1.942705</td>\n",
       "    </tr>\n",
       "    <tr>\n",
       "      <th>1</th>\n",
       "      <td>801012</td>\n",
       "      <td>农产品加工II</td>\n",
       "      <td>33214</td>\n",
       "      <td>42.115690</td>\n",
       "      <td>53.469651</td>\n",
       "      <td>-8.987499</td>\n",
       "      <td>-17.455907</td>\n",
       "      <td>8.468408</td>\n",
       "      <td>0.199770</td>\n",
       "      <td>0.691922</td>\n",
       "      <td>0.101039</td>\n",
       "    </tr>\n",
       "    <tr>\n",
       "      <th>2</th>\n",
       "      <td>801012</td>\n",
       "      <td>农产品加工II</td>\n",
       "      <td>33214</td>\n",
       "      <td>13.509500</td>\n",
       "      <td>19.485156</td>\n",
       "      <td>-25.938599</td>\n",
       "      <td>-20.195254</td>\n",
       "      <td>-5.743346</td>\n",
       "      <td>0.360893</td>\n",
       "      <td>1.392745</td>\n",
       "      <td>0.721243</td>\n",
       "    </tr>\n",
       "    <tr>\n",
       "      <th>3</th>\n",
       "      <td>801012</td>\n",
       "      <td>农产品加工II</td>\n",
       "      <td>33214</td>\n",
       "      <td>64.128683</td>\n",
       "      <td>58.424104</td>\n",
       "      <td>-42.129105</td>\n",
       "      <td>-32.290747</td>\n",
       "      <td>-9.838358</td>\n",
       "      <td>0.432093</td>\n",
       "      <td>1.421845</td>\n",
       "      <td>0.847409</td>\n",
       "    </tr>\n",
       "    <tr>\n",
       "      <th>4</th>\n",
       "      <td>801012</td>\n",
       "      <td>农产品加工II</td>\n",
       "      <td>33214</td>\n",
       "      <td>85.045484</td>\n",
       "      <td>86.250993</td>\n",
       "      <td>-29.805827</td>\n",
       "      <td>-64.336337</td>\n",
       "      <td>34.530510</td>\n",
       "      <td>-0.170309</td>\n",
       "      <td>0.907151</td>\n",
       "      <td>0.225449</td>\n",
       "    </tr>\n",
       "  </tbody>\n",
       "</table>\n",
       "</div>"
      ],
      "text/plain": [
       "     code     name  kPattern          k          d        dif        dea  \\\n",
       "0  801012  农产品加工II     33214  54.193490  53.001464   4.653048  28.310486   \n",
       "1  801012  农产品加工II     33214  42.115690  53.469651  -8.987499 -17.455907   \n",
       "2  801012  农产品加工II     33214  13.509500  19.485156 -25.938599 -20.195254   \n",
       "3  801012  农产品加工II     33214  64.128683  58.424104 -42.129105 -32.290747   \n",
       "4  801012  农产品加工II     33214  85.045484  86.250993 -29.805827 -64.336337   \n",
       "\n",
       "        macd      open     short      long  \n",
       "0 -23.657439 -0.019959  4.203308  1.942705  \n",
       "1   8.468408  0.199770  0.691922  0.101039  \n",
       "2  -5.743346  0.360893  1.392745  0.721243  \n",
       "3  -9.838358  0.432093  1.421845  0.847409  \n",
       "4  34.530510 -0.170309  0.907151  0.225449  "
      ]
     },
     "execution_count": 38,
     "metadata": {},
     "output_type": "execute_result"
    }
   ],
   "source": [
    "\n",
    "#RandomForestClassifier\n",
    "import math\n",
    "import matplotlib as mpl\n",
    "import warnings\n",
    "import numpy as np\n",
    "from sklearn.model_selection import cross_val_score\n",
    "from sklearn.datasets import make_blobs\n",
    "from sklearn.ensemble import RandomForestClassifier\n",
    "from sklearn.ensemble import ExtraTreesClassifier\n",
    "from sklearn.tree import DecisionTreeClassifier\n",
    "import matplotlib.pyplot as plt\n",
    "from sklearn.model_selection import train_test_split\n",
    "import pandas as pd\n",
    "import numpy as np\n",
    "\n",
    "\n",
    "excelFile = r'files/sw_train_data_sample_33214.xlsx'\n",
    "sample_df = pd.DataFrame(pd.read_excel(excelFile))\n",
    "print(f\"{sample_df.shape}\")\n",
    "sample_df.head()"
   ]
  },
  {
   "cell_type": "code",
   "execution_count": 39,
   "metadata": {},
   "outputs": [
    {
     "data": {
      "text/html": [
       "<div>\n",
       "<style scoped>\n",
       "    .dataframe tbody tr th:only-of-type {\n",
       "        vertical-align: middle;\n",
       "    }\n",
       "\n",
       "    .dataframe tbody tr th {\n",
       "        vertical-align: top;\n",
       "    }\n",
       "\n",
       "    .dataframe thead th {\n",
       "        text-align: right;\n",
       "    }\n",
       "</style>\n",
       "<table border=\"1\" class=\"dataframe\">\n",
       "  <thead>\n",
       "    <tr style=\"text-align: right;\">\n",
       "      <th></th>\n",
       "      <th>k</th>\n",
       "      <th>kd_diff</th>\n",
       "      <th>macd</th>\n",
       "      <th>open</th>\n",
       "      <th>short</th>\n",
       "      <th>long</th>\n",
       "    </tr>\n",
       "  </thead>\n",
       "  <tbody>\n",
       "    <tr>\n",
       "      <th>0</th>\n",
       "      <td>0.54</td>\n",
       "      <td>0.01</td>\n",
       "      <td>-0.19</td>\n",
       "      <td>-0.01</td>\n",
       "      <td>1</td>\n",
       "      <td>12</td>\n",
       "    </tr>\n",
       "    <tr>\n",
       "      <th>1</th>\n",
       "      <td>0.42</td>\n",
       "      <td>-0.11</td>\n",
       "      <td>0.07</td>\n",
       "      <td>0.19</td>\n",
       "      <td>1</td>\n",
       "      <td>10</td>\n",
       "    </tr>\n",
       "    <tr>\n",
       "      <th>2</th>\n",
       "      <td>0.13</td>\n",
       "      <td>-0.05</td>\n",
       "      <td>-0.04</td>\n",
       "      <td>0.36</td>\n",
       "      <td>1</td>\n",
       "      <td>11</td>\n",
       "    </tr>\n",
       "    <tr>\n",
       "      <th>3</th>\n",
       "      <td>0.64</td>\n",
       "      <td>0.05</td>\n",
       "      <td>-0.08</td>\n",
       "      <td>0.43</td>\n",
       "      <td>1</td>\n",
       "      <td>11</td>\n",
       "    </tr>\n",
       "    <tr>\n",
       "      <th>4</th>\n",
       "      <td>0.85</td>\n",
       "      <td>-0.01</td>\n",
       "      <td>0.28</td>\n",
       "      <td>-0.17</td>\n",
       "      <td>1</td>\n",
       "      <td>10</td>\n",
       "    </tr>\n",
       "  </tbody>\n",
       "</table>\n",
       "</div>"
      ],
      "text/plain": [
       "      k  kd_diff  macd  open  short  long\n",
       "0  0.54     0.01 -0.19 -0.01      1    12\n",
       "1  0.42    -0.11  0.07  0.19      1    10\n",
       "2  0.13    -0.05 -0.04  0.36      1    11\n",
       "3  0.64     0.05 -0.08  0.43      1    11\n",
       "4  0.85    -0.01  0.28 -0.17      1    10"
      ]
     },
     "execution_count": 39,
     "metadata": {},
     "output_type": "execute_result"
    }
   ],
   "source": [
    "def set_0_or_1(x):\n",
    "    if x > 0:\n",
    "        return 1\n",
    "    return 0\n",
    "\n",
    "def toInter(x):\n",
    "    return int(x + 10.5)\n",
    "\n",
    "def percent_to_one(x):\n",
    "    return int(x * 100) /100.0\n",
    "\n",
    "def to_one_min_max_120(x):\n",
    "    v = x / 120\n",
    "    if  v > 1:\n",
    "        v = 1\n",
    "    if  v< -1:\n",
    "        v =-1\n",
    "    return int(v*100)/100.0\n",
    "\n",
    "d = sample_df\n",
    "d['d'] = d.k - d.d\n",
    "d['d'] = (d.d /100).apply(percent_to_one)  #归一化\n",
    "d['k'] = (d.k /100).apply(percent_to_one)  #归一化\n",
    "d['open'] = d.open.apply(percent_to_one)   #归一化\n",
    "d['macd'] = d.macd.apply(to_one_min_max_120)   #归一化\n",
    "#d['short'] = d.short.apply(toInter)  ##涨幅编码，如：14 ，表示涨幅为4\n",
    "#d['short'] = d.short.apply(set_0_or_1)\n",
    "d['long'] = d.long .apply(toInter)\n",
    "sample_df = sample_df.drop(columns=['code','kPattern', 'name','dif','dea'])\n",
    "sample_df.rename(columns={'d':'kd_diff'},inplace=True)\n",
    "sample_df.head()"
   ]
  },
  {
   "cell_type": "code",
   "execution_count": 40,
   "metadata": {},
   "outputs": [
    {
     "data": {
      "text/plain": [
       "array([[1],\n",
       "       [1],\n",
       "       [1],\n",
       "       ...,\n",
       "       [1],\n",
       "       [0],\n",
       "       [1]])"
      ]
     },
     "execution_count": 40,
     "metadata": {},
     "output_type": "execute_result"
    }
   ],
   "source": [
    "data  = sample_df.values\n",
    "x,y=np.split(data,indices_or_sections=(4,),axis=1) #x为数据，y为标签\n",
    "y = y[:,0:1].astype('int')  #取第一列\n",
    "y\n"
   ]
  },
  {
   "cell_type": "code",
   "execution_count": 41,
   "metadata": {},
   "outputs": [
    {
     "data": {
      "text/plain": [
       "(1435, 4)"
      ]
     },
     "execution_count": 41,
     "metadata": {},
     "output_type": "execute_result"
    }
   ],
   "source": [
    "import sklearn\n",
    "from sklearn import model_selection\n",
    "x_train,x_test,y_train,y_test =model_selection.train_test_split(x,y, train_size=0.7,test_size=0.3)\n",
    "\n",
    "y_train = y_train.ravel()\n",
    "y_test = y_test.ravel()\n",
    "x_train.shape"
   ]
  },
  {
   "cell_type": "code",
   "execution_count": null,
   "metadata": {},
   "outputs": [],
   "source": []
  },
  {
   "cell_type": "code",
   "execution_count": 42,
   "metadata": {},
   "outputs": [],
   "source": [
    "n_features = 20\n",
    "#核心代码\n",
    "#传统决策树、随机森林算法、极端随机树关于区别:https://blog.csdn.net/hanss2/article/details/53525503\n",
    "#关于其中参数的说明请看http://www.jb51.net/article/131172.htm\n",
    "clf1 = DecisionTreeClassifier(max_depth=None, min_samples_split=2,random_state=0)\n",
    "clf2 = RandomForestClassifier(n_estimators=10,max_depth=None,min_samples_split=2, bootstrap=True)\n",
    "clf3 = ExtraTreesClassifier(n_estimators=10, max_depth=None,min_samples_split=2, bootstrap=False)\n"
   ]
  },
  {
   "cell_type": "code",
   "execution_count": 30,
   "metadata": {},
   "outputs": [
    {
     "data": {
      "text/plain": [
       "RandomForestClassifier(bootstrap=True, ccp_alpha=0.0, class_weight=None,\n",
       "                       criterion='gini', max_depth=None, max_features='auto',\n",
       "                       max_leaf_nodes=None, max_samples=None,\n",
       "                       min_impurity_decrease=0.0, min_impurity_split=None,\n",
       "                       min_samples_leaf=1, min_samples_split=2,\n",
       "                       min_weight_fraction_leaf=0.0, n_estimators=10,\n",
       "                       n_jobs=None, oob_score=False, random_state=None,\n",
       "                       verbose=0, warm_start=False)"
      ]
     },
     "execution_count": 30,
     "metadata": {},
     "output_type": "execute_result"
    }
   ],
   "source": [
    "clf2.fit(x_train,y_train)\n"
   ]
  },
  {
   "cell_type": "code",
   "execution_count": 37,
   "metadata": {},
   "outputs": [
    {
     "data": {
      "text/plain": [
       "array([10])"
      ]
     },
     "execution_count": 37,
     "metadata": {},
     "output_type": "execute_result"
    }
   ],
   "source": [
    "sampel_1 = x_test[0,]\n",
    "restul = clf2.predict([sampel_1])\n",
    "restul"
   ]
  },
  {
   "cell_type": "code",
   "execution_count": 43,
   "metadata": {},
   "outputs": [
    {
     "name": "stdout",
     "output_type": "stream",
     "text": [
      "\n",
      "DecisionTreeClassifier交叉验证准确率为:0.6195121951219512\n",
      "RandomForestClassifier交叉验证准确率为:0.6599303135888501\n",
      "ExtraTreesClassifier交叉验证准确率为:0.659233449477352\n"
     ]
    }
   ],
   "source": [
    "\n",
    "#交叉验证\n",
    "scores1 = cross_val_score(clf1, x_train, y_train)\n",
    "scores2 = cross_val_score(clf2, x_train, y_train)\n",
    "scores3 = cross_val_score(clf3, x_train, y_train)\n",
    "print()\n",
    "print('DecisionTreeClassifier交叉验证准确率为:'+str(scores1.mean()))    \n",
    "print('RandomForestClassifier交叉验证准确率为:'+str(scores2.mean()))    \n",
    "print('ExtraTreesClassifier交叉验证准确率为:'+str(scores3.mean()))"
   ]
  },
  {
   "cell_type": "code",
   "execution_count": null,
   "metadata": {},
   "outputs": [],
   "source": []
  }
 ],
 "metadata": {
  "kernelspec": {
   "display_name": "Python 3",
   "language": "python",
   "name": "python3"
  },
  "language_info": {
   "codemirror_mode": {
    "name": "ipython",
    "version": 3
   },
   "file_extension": ".py",
   "mimetype": "text/x-python",
   "name": "python",
   "nbconvert_exporter": "python",
   "pygments_lexer": "ipython3",
   "version": "3.7.6"
  }
 },
 "nbformat": 4,
 "nbformat_minor": 4
}
