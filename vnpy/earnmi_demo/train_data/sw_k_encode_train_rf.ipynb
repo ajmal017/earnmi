{
 "cells": [
  {
   "cell_type": "code",
   "execution_count": 1,
   "metadata": {},
   "outputs": [
    {
     "name": "stdout",
     "output_type": "stream",
     "text": [
      "(348, 9)\n"
     ]
    },
    {
     "data": {
      "text/html": [
       "<div>\n",
       "<style scoped>\n",
       "    .dataframe tbody tr th:only-of-type {\n",
       "        vertical-align: middle;\n",
       "    }\n",
       "\n",
       "    .dataframe tbody tr th {\n",
       "        vertical-align: top;\n",
       "    }\n",
       "\n",
       "    .dataframe thead th {\n",
       "        text-align: right;\n",
       "    }\n",
       "</style>\n",
       "<table border=\"1\" class=\"dataframe\">\n",
       "  <thead>\n",
       "    <tr style=\"text-align: right;\">\n",
       "      <th></th>\n",
       "      <th>code</th>\n",
       "      <th>name</th>\n",
       "      <th>kPattern</th>\n",
       "      <th>buy_price</th>\n",
       "      <th>sell_price</th>\n",
       "      <th>k</th>\n",
       "      <th>j</th>\n",
       "      <th>label_sell_price</th>\n",
       "      <th>label_buy_price</th>\n",
       "    </tr>\n",
       "  </thead>\n",
       "  <tbody>\n",
       "    <tr>\n",
       "      <th>0</th>\n",
       "      <td>801881</td>\n",
       "      <td>其他交运设备II</td>\n",
       "      <td>712</td>\n",
       "      <td>-1.098986</td>\n",
       "      <td>-0.008333</td>\n",
       "      <td>95.583908</td>\n",
       "      <td>90.605103</td>\n",
       "      <td>0.290301</td>\n",
       "      <td>-1.715114</td>\n",
       "    </tr>\n",
       "    <tr>\n",
       "      <th>1</th>\n",
       "      <td>801881</td>\n",
       "      <td>其他交运设备II</td>\n",
       "      <td>712</td>\n",
       "      <td>-0.511574</td>\n",
       "      <td>0.225401</td>\n",
       "      <td>70.570293</td>\n",
       "      <td>59.899220</td>\n",
       "      <td>2.299587</td>\n",
       "      <td>0.042024</td>\n",
       "    </tr>\n",
       "    <tr>\n",
       "      <th>2</th>\n",
       "      <td>801881</td>\n",
       "      <td>其他交运设备II</td>\n",
       "      <td>712</td>\n",
       "      <td>2.521705</td>\n",
       "      <td>5.227228</td>\n",
       "      <td>67.502247</td>\n",
       "      <td>54.059976</td>\n",
       "      <td>8.238283</td>\n",
       "      <td>5.253366</td>\n",
       "    </tr>\n",
       "    <tr>\n",
       "      <th>3</th>\n",
       "      <td>801881</td>\n",
       "      <td>其他交运设备II</td>\n",
       "      <td>712</td>\n",
       "      <td>-2.102709</td>\n",
       "      <td>-0.082342</td>\n",
       "      <td>83.430366</td>\n",
       "      <td>84.083528</td>\n",
       "      <td>3.585147</td>\n",
       "      <td>-0.389238</td>\n",
       "    </tr>\n",
       "    <tr>\n",
       "      <th>4</th>\n",
       "      <td>801881</td>\n",
       "      <td>其他交运设备II</td>\n",
       "      <td>712</td>\n",
       "      <td>-0.882167</td>\n",
       "      <td>-0.200809</td>\n",
       "      <td>40.766058</td>\n",
       "      <td>24.982887</td>\n",
       "      <td>1.656360</td>\n",
       "      <td>-1.291246</td>\n",
       "    </tr>\n",
       "  </tbody>\n",
       "</table>\n",
       "</div>"
      ],
      "text/plain": [
       "     code      name  kPattern  buy_price  sell_price          k          j  \\\n",
       "0  801881  其他交运设备II       712  -1.098986   -0.008333  95.583908  90.605103   \n",
       "1  801881  其他交运设备II       712  -0.511574    0.225401  70.570293  59.899220   \n",
       "2  801881  其他交运设备II       712   2.521705    5.227228  67.502247  54.059976   \n",
       "3  801881  其他交运设备II       712  -2.102709   -0.082342  83.430366  84.083528   \n",
       "4  801881  其他交运设备II       712  -0.882167   -0.200809  40.766058  24.982887   \n",
       "\n",
       "   label_sell_price  label_buy_price  \n",
       "0          0.290301        -1.715114  \n",
       "1          2.299587         0.042024  \n",
       "2          8.238283         5.253366  \n",
       "3          3.585147        -0.389238  \n",
       "4          1.656360        -1.291246  "
      ]
     },
     "execution_count": 1,
     "metadata": {},
     "output_type": "execute_result"
    }
   ],
   "source": [
    "\n",
    "#RandomForestClassifier\n",
    "import math\n",
    "import matplotlib as mpl\n",
    "import warnings\n",
    "import numpy as np\n",
    "from sklearn.model_selection import cross_val_score\n",
    "from sklearn.datasets import make_blobs\n",
    "from sklearn.ensemble import RandomForestClassifier\n",
    "from sklearn.ensemble import ExtraTreesClassifier\n",
    "from sklearn.tree import DecisionTreeClassifier\n",
    "import matplotlib.pyplot as plt\n",
    "from sklearn.model_selection import train_test_split\n",
    "import pandas as pd\n",
    "import numpy as np\n",
    "\n",
    "\n",
    "excelFile = r'files/sw_train_data_sample.xlsx'\n",
    "sample_df = pd.DataFrame(pd.read_excel(excelFile))\n",
    "print(f\"{sample_df.shape}\")\n",
    "sample_df.head()"
   ]
  },
  {
   "cell_type": "code",
   "execution_count": 2,
   "metadata": {},
   "outputs": [
    {
     "data": {
      "text/html": [
       "<div>\n",
       "<style scoped>\n",
       "    .dataframe tbody tr th:only-of-type {\n",
       "        vertical-align: middle;\n",
       "    }\n",
       "\n",
       "    .dataframe tbody tr th {\n",
       "        vertical-align: top;\n",
       "    }\n",
       "\n",
       "    .dataframe thead th {\n",
       "        text-align: right;\n",
       "    }\n",
       "</style>\n",
       "<table border=\"1\" class=\"dataframe\">\n",
       "  <thead>\n",
       "    <tr style=\"text-align: right;\">\n",
       "      <th></th>\n",
       "      <th>buy_price</th>\n",
       "      <th>sell_price</th>\n",
       "      <th>k</th>\n",
       "      <th>j</th>\n",
       "      <th>label_sell_price</th>\n",
       "      <th>label_buy_price</th>\n",
       "    </tr>\n",
       "  </thead>\n",
       "  <tbody>\n",
       "    <tr>\n",
       "      <th>0</th>\n",
       "      <td>-0.109</td>\n",
       "      <td>0.000</td>\n",
       "      <td>0.955839</td>\n",
       "      <td>0.906051</td>\n",
       "      <td>0</td>\n",
       "      <td>-1</td>\n",
       "    </tr>\n",
       "    <tr>\n",
       "      <th>1</th>\n",
       "      <td>-0.051</td>\n",
       "      <td>0.022</td>\n",
       "      <td>0.705703</td>\n",
       "      <td>0.598992</td>\n",
       "      <td>1</td>\n",
       "      <td>0</td>\n",
       "    </tr>\n",
       "    <tr>\n",
       "      <th>2</th>\n",
       "      <td>0.252</td>\n",
       "      <td>0.522</td>\n",
       "      <td>0.675022</td>\n",
       "      <td>0.540600</td>\n",
       "      <td>1</td>\n",
       "      <td>5</td>\n",
       "    </tr>\n",
       "    <tr>\n",
       "      <th>3</th>\n",
       "      <td>-0.210</td>\n",
       "      <td>-0.008</td>\n",
       "      <td>0.834304</td>\n",
       "      <td>0.840835</td>\n",
       "      <td>1</td>\n",
       "      <td>0</td>\n",
       "    </tr>\n",
       "    <tr>\n",
       "      <th>4</th>\n",
       "      <td>-0.088</td>\n",
       "      <td>-0.020</td>\n",
       "      <td>0.407661</td>\n",
       "      <td>0.249829</td>\n",
       "      <td>0</td>\n",
       "      <td>0</td>\n",
       "    </tr>\n",
       "  </tbody>\n",
       "</table>\n",
       "</div>"
      ],
      "text/plain": [
       "   buy_price  sell_price         k         j  label_sell_price  \\\n",
       "0     -0.109       0.000  0.955839  0.906051                 0   \n",
       "1     -0.051       0.022  0.705703  0.598992                 1   \n",
       "2      0.252       0.522  0.675022  0.540600                 1   \n",
       "3     -0.210      -0.008  0.834304  0.840835                 1   \n",
       "4     -0.088      -0.020  0.407661  0.249829                 0   \n",
       "\n",
       "   label_buy_price  \n",
       "0               -1  \n",
       "1                0  \n",
       "2                5  \n",
       "3                0  \n",
       "4                0  "
      ]
     },
     "execution_count": 2,
     "metadata": {},
     "output_type": "execute_result"
    }
   ],
   "source": [
    "def set_0_or_1(x):\n",
    "    if x >= 2:\n",
    "        return 1\n",
    "    return 0\n",
    "\n",
    "def percent_to_one(x):\n",
    "    return int(x * 100) /1000.0\n",
    "\n",
    "def to_one_min_max_120(x):\n",
    "    v = x / 120\n",
    "    if  v > 1:\n",
    "        v = 1\n",
    "    if  v< -1:\n",
    "        v =-1\n",
    "    return int(v*100)/100.0\n",
    "\n",
    "def toInt(x):\n",
    "    return int(x + 0.5)\n",
    "\n",
    "d = sample_df\n",
    "d['buy_price'] = d.buy_price.apply(percent_to_one)   #归一化\n",
    "d['sell_price'] = d.sell_price.apply(percent_to_one)   #归一化\n",
    "d['label_sell_price'] = d.label_sell_price.apply(set_0_or_1)\n",
    "d['label_buy_price'] = d.label_buy_price.apply(toInt)\n",
    "d.k = d.k / 100\n",
    "d.j = d.j / 100\n",
    "sample_df = sample_df.drop(columns=['code','kPattern', 'name'])\n",
    "#sample_df.rename(columns={'d':'kd_diff'},inplace=True)\n",
    "sample_df.head()"
   ]
  },
  {
   "cell_type": "code",
   "execution_count": 5,
   "metadata": {},
   "outputs": [],
   "source": [
    "data  = sample_df.values\n",
    "x,y=np.split(data,indices_or_sections=(4,),axis=1) #x为数据，y为标签\n",
    "y = y[:,0:1].astype('int')  #取第一列"
   ]
  },
  {
   "cell_type": "code",
   "execution_count": 6,
   "metadata": {},
   "outputs": [
    {
     "data": {
      "text/plain": [
       "(243, 4)"
      ]
     },
     "execution_count": 6,
     "metadata": {},
     "output_type": "execute_result"
    }
   ],
   "source": [
    "import sklearn\n",
    "from sklearn import model_selection\n",
    "x_train,x_test,y_train,y_test =model_selection.train_test_split(x,y, train_size=0.7,test_size=0.3)\n",
    "\n",
    "y_train = y_train.ravel()\n",
    "y_test = y_test.ravel()\n",
    "x_train.shape"
   ]
  },
  {
   "cell_type": "code",
   "execution_count": null,
   "metadata": {},
   "outputs": [],
   "source": []
  },
  {
   "cell_type": "code",
   "execution_count": 7,
   "metadata": {},
   "outputs": [],
   "source": [
    "n_features = 20\n",
    "#核心代码\n",
    "#传统决策树、随机森林算法、极端随机树关于区别:https://blog.csdn.net/hanss2/article/details/53525503\n",
    "#关于其中参数的说明请看http://www.jb51.net/article/131172.htm\n",
    "clf1 = DecisionTreeClassifier(max_depth=None, min_samples_split=2,random_state=0)\n",
    "clf2 = RandomForestClassifier(n_estimators=50,max_depth=None,min_samples_split=50, bootstrap=True)\n",
    "clf3 = ExtraTreesClassifier(n_estimators=10, max_depth=None,min_samples_split=2, bootstrap=False)\n"
   ]
  },
  {
   "cell_type": "code",
   "execution_count": 30,
   "metadata": {},
   "outputs": [
    {
     "data": {
      "text/plain": [
       "RandomForestClassifier(bootstrap=True, ccp_alpha=0.0, class_weight=None,\n",
       "                       criterion='gini', max_depth=None, max_features='auto',\n",
       "                       max_leaf_nodes=None, max_samples=None,\n",
       "                       min_impurity_decrease=0.0, min_impurity_split=None,\n",
       "                       min_samples_leaf=1, min_samples_split=2,\n",
       "                       min_weight_fraction_leaf=0.0, n_estimators=10,\n",
       "                       n_jobs=None, oob_score=False, random_state=None,\n",
       "                       verbose=0, warm_start=False)"
      ]
     },
     "execution_count": 30,
     "metadata": {},
     "output_type": "execute_result"
    }
   ],
   "source": []
  },
  {
   "cell_type": "code",
   "execution_count": 43,
   "metadata": {},
   "outputs": [
    {
     "data": {
      "text/plain": [
       "RandomForestClassifier(bootstrap=True, ccp_alpha=0.0, class_weight=None,\n",
       "                       criterion='gini', max_depth=None, max_features='auto',\n",
       "                       max_leaf_nodes=None, max_samples=None,\n",
       "                       min_impurity_decrease=0.0, min_impurity_split=None,\n",
       "                       min_samples_leaf=1, min_samples_split=2,\n",
       "                       min_weight_fraction_leaf=0.0, n_estimators=50,\n",
       "                       n_jobs=None, oob_score=False, random_state=None,\n",
       "                       verbose=0, warm_start=False)"
      ]
     },
     "execution_count": 43,
     "metadata": {},
     "output_type": "execute_result"
    }
   ],
   "source": [
    "clf2.fit(x_train,y_train)\n"
   ]
  },
  {
   "cell_type": "code",
   "execution_count": 44,
   "metadata": {},
   "outputs": [
    {
     "name": "stderr",
     "output_type": "stream",
     "text": [
      "C:\\ProgramData\\Anaconda3\\lib\\site-packages\\sklearn\\ensemble\\_forest.py:704: RuntimeWarning: divide by zero encountered in log\n",
      "  return np.log(proba)\n"
     ]
    },
    {
     "data": {
      "text/plain": [
       "(array([1, 1, 1, 0, 0]),\n",
       " array([[0.2 , 0.8 ],\n",
       "        [0.28, 0.72],\n",
       "        [0.42, 0.58],\n",
       "        [1.  , 0.  ],\n",
       "        [0.56, 0.44]]))"
      ]
     },
     "execution_count": 44,
     "metadata": {},
     "output_type": "execute_result"
    }
   ],
   "source": [
    "# 预测某个特征的在各个标签的概率\n",
    "sampel_1 = x_test[5:10,]   ##取测试数据低第8,9个\n",
    "sampel_1\n",
    "predict_props = clf2.predict_proba(sampel_1)\n",
    "predict_label = clf2.predict(sampel_1)\n",
    "clf2.predict_log_proba(sampel_1)\n",
    "predict_label,predict_props"
   ]
  },
  {
   "cell_type": "code",
   "execution_count": 24,
   "metadata": {},
   "outputs": [
    {
     "data": {
      "text/plain": [
       "((5, 2), (2,), array([0, 1]))"
      ]
     },
     "execution_count": 24,
     "metadata": {},
     "output_type": "execute_result"
    }
   ],
   "source": [
    "label_total = np.unique(y_train)\n",
    "label_total = np.sort(label_total)\n",
    "\n",
    "predict_props.shape,label_total.shape,label_total"
   ]
  },
  {
   "cell_type": "code",
   "execution_count": null,
   "metadata": {},
   "outputs": [],
   "source": [
    "\n"
   ]
  },
  {
   "cell_type": "code",
   "execution_count": 9,
   "metadata": {},
   "outputs": [
    {
     "name": "stdout",
     "output_type": "stream",
     "text": [
      "\n",
      "DecisionTreeClassifier交叉验证准确率为:0.7284013605442177\n",
      "RandomForestClassifier交叉验证准确率为:0.7943027210884355\n",
      "ExtraTreesClassifier交叉验证准确率为:0.7739795918367347\n"
     ]
    }
   ],
   "source": [
    "\n",
    "#交叉验证\n",
    "scores1 = cross_val_score(clf1, x_train, y_train)\n",
    "scores2 = cross_val_score(clf2, x_train, y_train)\n",
    "scores3 = cross_val_score(clf3, x_train, y_train)\n",
    "print()\n",
    "print('DecisionTreeClassifier交叉验证准确率为:'+str(scores1.mean()))    \n",
    "print('RandomForestClassifier交叉验证准确率为:'+str(scores2.mean()))    \n",
    "print('ExtraTreesClassifier交叉验证准确率为:'+str(scores3.mean()))"
   ]
  },
  {
   "cell_type": "code",
   "execution_count": null,
   "metadata": {},
   "outputs": [],
   "source": []
  }
 ],
 "metadata": {
  "kernelspec": {
   "display_name": "Python 3",
   "language": "python",
   "name": "python3"
  },
  "language_info": {
   "codemirror_mode": {
    "name": "ipython",
    "version": 3
   },
   "file_extension": ".py",
   "mimetype": "text/x-python",
   "name": "python",
   "nbconvert_exporter": "python",
   "pygments_lexer": "ipython3",
   "version": "3.7.6"
  }
 },
 "nbformat": 4,
 "nbformat_minor": 4
}
